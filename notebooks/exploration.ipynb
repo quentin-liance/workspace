{
 "cells": [
  {
   "cell_type": "code",
   "execution_count": 2,
   "metadata": {},
   "outputs": [],
   "source": [
    "import pandas as pd\n",
    "\n",
    "import src.paths as paths\n",
    "from src.utils import clean_col_names, currency_formating"
   ]
  },
  {
   "cell_type": "code",
   "execution_count": 3,
   "metadata": {},
   "outputs": [
    {
     "name": "stdout",
     "output_type": "stream",
     "text": [
      "hello\n"
     ]
    }
   ],
   "source": [
    "print(\"hello\")"
   ]
  },
  {
   "cell_type": "code",
   "execution_count": 3,
   "metadata": {},
   "outputs": [],
   "source": [
    "journal = pd.read_excel(io=paths.JOURNAL_RAW_FILE_PATH, dtype=str)\n",
    "plan_de_compte = pd.read_excel(io=paths.PLAN_DE_COMPTE_RAW_FILE_PATH, dtype=str)"
   ]
  },
  {
   "cell_type": "code",
   "execution_count": 4,
   "metadata": {},
   "outputs": [],
   "source": [
    "journal.columns = clean_col_names(journal)\n",
    "plan_de_compte.columns = clean_col_names(plan_de_compte)"
   ]
  },
  {
   "cell_type": "code",
   "execution_count": 5,
   "metadata": {},
   "outputs": [],
   "source": [
    "for col in [\"DEBIT\", \"CREDIT\"]:\n",
    "    journal[col] = journal[col].astype(float)\n",
    "\n",
    "for col in [\"DATE\", \"ECHEANCE\"]:\n",
    "    journal[col] = pd.to_datetime(journal[col], format=\"%d/%m/%Y\")\n",
    "    \n",
    "journal[\"AAAAMM\"] = journal[\"DATE\"].dt.strftime(\"%Y%m\")"
   ]
  },
  {
   "cell_type": "code",
   "execution_count": 6,
   "metadata": {},
   "outputs": [],
   "source": [
    "# Filtre pour ne conserver que les charges\n",
    "masque_charge = journal[\"COMPTE\"].str[0] == \"6\"\n",
    "charges = journal.loc[masque_charge].reset_index(drop=True)"
   ]
  },
  {
   "cell_type": "code",
   "execution_count": 7,
   "metadata": {},
   "outputs": [],
   "source": [
    "charges_plan_de_compte = charges.merge(\n",
    "    right=plan_de_compte,\n",
    "    how=\"left\",\n",
    "    on=\"COMPTE\",\n",
    "    validate=\"m:1\",\n",
    ")"
   ]
  },
  {
   "cell_type": "code",
   "execution_count": 8,
   "metadata": {},
   "outputs": [
    {
     "data": {
      "text/plain": [
       "DEFINITION\n",
       "False    702\n",
       "Name: count, dtype: int64"
      ]
     },
     "execution_count": 8,
     "metadata": {},
     "output_type": "execute_result"
    }
   ],
   "source": [
    "charges_plan_de_compte[\"DEFINITION\"].isna().value_counts()"
   ]
  },
  {
   "cell_type": "code",
   "execution_count": 10,
   "metadata": {},
   "outputs": [],
   "source": [
    "charges_plan_de_compte.to_excel(\"exemple.xlsx\", index=False)"
   ]
  },
  {
   "cell_type": "code",
   "execution_count": 11,
   "metadata": {},
   "outputs": [],
   "source": [
    "years = sorted(charges_plan_de_compte[\"AAAAMM\"].unique().tolist())\n",
    "v = [currency_formating] * len(years)\n",
    "dict_formating = dict(zip(years, v))\n",
    "dict_formating[\"TOTAL\"] = currency_formating"
   ]
  },
  {
   "cell_type": "code",
   "execution_count": 1,
   "metadata": {},
   "outputs": [
    {
     "ename": "NameError",
     "evalue": "name 'charges_plan_de_compte' is not defined",
     "output_type": "error",
     "traceback": [
      "\u001b[0;31m---------------------------------------------------------------------------\u001b[0m",
      "\u001b[0;31mNameError\u001b[0m                                 Traceback (most recent call last)",
      "Cell \u001b[0;32mIn[1], line 1\u001b[0m\n\u001b[0;32m----> 1\u001b[0m \u001b[43mcharges_plan_de_compte\u001b[49m\n",
      "\u001b[0;31mNameError\u001b[0m: name 'charges_plan_de_compte' is not defined"
     ]
    }
   ],
   "source": [
    "charges_plan_de_compte"
   ]
  },
  {
   "cell_type": "markdown",
   "metadata": {},
   "source": [
    "# Charges par catégorie x période"
   ]
  },
  {
   "cell_type": "code",
   "execution_count": 12,
   "metadata": {},
   "outputs": [],
   "source": [
    "(\n",
    "    charges_plan_de_compte.groupby(\n",
    "        [\"CATEGORIE\", \"AAAAMM\"], as_index=False, dropna=False\n",
    "    )\n",
    "    .agg({\"DEBIT\": \"sum\"})\n",
    "    .pivot_table(index=\"CATEGORIE\", columns=\"AAAAMM\", values=\"DEBIT\")\n",
    "    .reset_index()\n",
    "    .assign(TOTAL=lambda df_: df_[years].sum(axis=1))\n",
    "    .sort_values(\"TOTAL\", ascending=False, ignore_index=True)\n",
    "    .to_excel(paths.EXCEL_OUTPUT_FILE_PATH, index=False)\n",
    "    # .style.format(dict_formating, na_rep=\"\")\n",
    ")"
   ]
  },
  {
   "cell_type": "markdown",
   "metadata": {},
   "source": [
    "# Charges par catégorie x compte x période"
   ]
  },
  {
   "cell_type": "code",
   "execution_count": 14,
   "metadata": {},
   "outputs": [],
   "source": [
    "(\n",
    "    charges_plan_de_compte.groupby(\n",
    "        [\"CATEGORIE\", \"DEFINITION\", \"COMPTE\", \"AAAAMM\"], as_index=False, dropna=False\n",
    "    )\n",
    "    .agg({\"DEBIT\": \"sum\"})\n",
    "    .pivot_table(\n",
    "        index=[\"CATEGORIE\", \"DEFINITION\", \"COMPTE\"],\n",
    "        columns=\"AAAAMM\",\n",
    "        values=\"DEBIT\",\n",
    "    )\n",
    "    .reset_index()\n",
    "    .assign(TOTAL=lambda df_: df_[years].sum(axis=1))\n",
    "    .sort_values(\"TOTAL\", ascending=False, ignore_index=True)\n",
    "    .to_excel(paths.EXCEL_OUTPUT_FILE_PATH, index=False)\n",
    "    # .style.format(dict_formating, na_rep=\"\")\n",
    ")\n"
   ]
  },
  {
   "cell_type": "code",
   "execution_count": null,
   "metadata": {},
   "outputs": [],
   "source": [
    "charges_plan_de_compte.query(\"COMPTE == '601000'\").sort_values(\"DATE\", ignore_index=True)"
   ]
  },
  {
   "cell_type": "code",
   "execution_count": null,
   "metadata": {},
   "outputs": [],
   "source": []
  }
 ],
 "metadata": {
  "kernelspec": {
   "display_name": ".venv",
   "language": "python",
   "name": "python3"
  },
  "language_info": {
   "codemirror_mode": {
    "name": "ipython",
    "version": 3
   },
   "file_extension": ".py",
   "mimetype": "text/x-python",
   "name": "python",
   "nbconvert_exporter": "python",
   "pygments_lexer": "ipython3",
   "version": "3.11.11"
  }
 },
 "nbformat": 4,
 "nbformat_minor": 2
}
