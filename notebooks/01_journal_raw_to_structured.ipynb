{
 "cells": [
  {
   "cell_type": "code",
   "execution_count": 1,
   "metadata": {},
   "outputs": [],
   "source": [
    "import pandas as pd\n",
    "\n",
    "import src.paths as paths\n",
    "from src.utils import clean_col_names\n",
    "\n",
    "# Read the raw journal data from an Excel file, specifying all columns as strings\n",
    "journal = pd.read_excel(io=paths.JOURNAL_RAW_FILE_PATH, dtype=str)\n",
    "\n",
    "# Clean the column names of the journal dataframe using the clean_col_names function\n",
    "journal.columns = clean_col_names(journal)\n",
    "\n",
    "# Convert the columns \"DEBIT\" and \"CREDIT\" to float type\n",
    "for col in [\"DEBIT\", \"CREDIT\"]:\n",
    "    journal[col] = journal[col].astype(float)\n",
    "\n",
    "# Convert the columns \"DATE\" and \"ECHEANCE\" to datetime type with the specified format\n",
    "for col in [\"DATE\", \"ECHEANCE\"]:\n",
    "    journal[col] = pd.to_datetime(journal[col], format=\"%d/%m/%Y\")\n",
    "\n",
    "# Create a new column \"AAAAMM\" by formatting the \"DATE\" column to \"YYYYMM\"\n",
    "journal[\"AAAAMM\"] = journal[\"DATE\"].dt.strftime(\"%Y%m\")\n",
    "\n",
    "# Save the cleaned journal data to a parquet file\n",
    "journal.to_parquet(paths.JOURNAL_STRUCTURED_FILE_PATH, index=False)"
   ]
  }
 ],
 "metadata": {
  "kernelspec": {
   "display_name": ".venv",
   "language": "python",
   "name": "python3"
  },
  "language_info": {
   "codemirror_mode": {
    "name": "ipython",
    "version": 3
   },
   "file_extension": ".py",
   "mimetype": "text/x-python",
   "name": "python",
   "nbconvert_exporter": "python",
   "pygments_lexer": "ipython3",
   "version": "3.11.11"
  }
 },
 "nbformat": 4,
 "nbformat_minor": 2
}
