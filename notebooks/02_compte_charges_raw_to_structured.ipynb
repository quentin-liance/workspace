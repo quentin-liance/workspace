{
 "cells": [
  {
   "cell_type": "code",
   "execution_count": 1,
   "metadata": {},
   "outputs": [],
   "source": [
    "import pandas as pd\n",
    "\n",
    "from src import paths\n",
    "\n",
    "# Read the Excel file specified by the path in paths.PLAN_COMPTABLE_RAW_FILE_PATH into a pandas DataFrame\n",
    "# The dtype parameter ensures that all columns are read as strings\n",
    "plan_comptable = pd.read_excel(paths.PLAN_COMPTABLE_RAW_FILE_PATH, dtype=str)\n",
    "\n",
    "# Rename the columns of the DataFrame to \"CODE\" and \"LIBELLE\"\n",
    "plan_comptable.columns = [\"CODE\", \"LIBELLE\"]\n",
    "\n",
    "# Create a mask to filter rows where the first character of the \"CODE\" column is \"6\"\n",
    "masque_compte_charges = plan_comptable[\"CODE\"].str[0] == \"6\"  # noqa: E731\n",
    "\n",
    "# Create a mask to filter rows where the length of the \"CODE\" column is 2\n",
    "masque_categorie = plan_comptable[\"CODE\"].str.len() == 2  # noqa: E731\n",
    "\n",
    "# Create a mask to filter rows where the length of the \"CODE\" column is 3\n",
    "masque_sous_categorie = plan_comptable[\"CODE\"].str.len() == 3  # noqa: E731\n",
    "\n",
    "# Filter the plan_comptable dataframe to get categories of account charges\n",
    "categorie_compte_charges = plan_comptable[\n",
    "    masque_compte_charges & masque_categorie\n",
    "].reset_index(drop=True)\n",
    "\n",
    "# Filter the plan_comptable dataframe to get subcategories of account charges\n",
    "sous_categorie_compte_charges = plan_comptable[\n",
    "    masque_compte_charges & masque_sous_categorie\n",
    "].reset_index(drop=True)\n",
    "\n",
    "# Extract the first two characters of the \"CODE\" column to create a new \"CLE\" column in the sous_categorie_compte_charges DataFrame\n",
    "sous_categorie_compte_charges[\"CLE\"] = sous_categorie_compte_charges[\"CODE\"].str[:2]\n",
    "\n",
    "# Merge the categorie_compte_charges and sous_categorie_compte_charges DataFrames on the \"CODE\" and \"CLE\" columns, respectively\n",
    "# The merge is performed as a left join, and the relationship is validated as one-to-many\n",
    "# The suffixes parameter is used to differentiate between columns with the same name in the two DataFrames\n",
    "compte_charges = categorie_compte_charges.merge(\n",
    "    sous_categorie_compte_charges,\n",
    "    how=\"left\",\n",
    "    left_on=\"CODE\",\n",
    "    right_on=\"CLE\",\n",
    "    validate=\"one_to_many\",\n",
    "    suffixes=(\"_CATEGORIE\", \"_SOUS_CATEGORIE\"),\n",
    ")\n",
    "\n",
    "# Strip leading and trailing whitespace and capitalize the first letter of each word in the \"LIBELLE_CATEGORIE\" and \"LIBELLE_SOUS_CATEGORIE\" columns\n",
    "for col in [\"LIBELLE_CATEGORIE\", \"LIBELLE_SOUS_CATEGORIE\"]:\n",
    "    compte_charges[col] = compte_charges[col].str.strip().str.capitalize()\n",
    "\n",
    "# Drop the \"CLE\" column from the compte_charges DataFrame\n",
    "compte_charges = compte_charges.drop(columns=[\"CLE\", \"CODE_CATEGORIE\"], axis=1)\n",
    "\n",
    "compte_charges.to_parquet(paths.COMPTE_CHARGES_STRUCTURED_FILE_PATH, index=False)"
   ]
  }
 ],
 "metadata": {
  "kernelspec": {
   "display_name": ".venv",
   "language": "python",
   "name": "python3"
  },
  "language_info": {
   "codemirror_mode": {
    "name": "ipython",
    "version": 3
   },
   "file_extension": ".py",
   "mimetype": "text/x-python",
   "name": "python",
   "nbconvert_exporter": "python",
   "pygments_lexer": "ipython3",
   "version": "3.11.11"
  }
 },
 "nbformat": 4,
 "nbformat_minor": 2
}
