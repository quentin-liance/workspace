{
 "cells": [
  {
   "cell_type": "code",
   "execution_count": 1,
   "metadata": {},
   "outputs": [],
   "source": [
    "import pandas as pd\n",
    "\n",
    "import src.paths as paths\n",
    "from src.utils import clean_col_names"
   ]
  },
  {
   "cell_type": "code",
   "execution_count": 2,
   "metadata": {},
   "outputs": [],
   "source": [
    "# Read the raw journal data from an Excel file, specifying all columns as strings\n",
    "journal = pd.read_parquet(paths.JOURNAL_STRUCTURED_FILE_PATH)\n",
    "\n",
    "# Read the processed plan comptable data from a Parquet file\n",
    "compte_charges = pd.read_parquet(paths.COMPTE_CHARGES_STRUCTURED_FILE_PATH)"
   ]
  },
  {
   "cell_type": "code",
   "execution_count": 3,
   "metadata": {},
   "outputs": [],
   "source": [
    "# Clean the column names of the journal dataframe using the clean_col_names function\n",
    "journal.columns = clean_col_names(journal)"
   ]
  },
  {
   "cell_type": "code",
   "execution_count": 4,
   "metadata": {},
   "outputs": [],
   "source": [
    "# Convert the columns \"DEBIT\" and \"CREDIT\" to float type\n",
    "for col in [\"DEBIT\", \"CREDIT\"]:\n",
    "    journal[col] = journal[col].astype(float)\n",
    "\n",
    "# Convert the columns \"DATE\" and \"ECHEANCE\" to datetime type with the specified format\n",
    "for col in [\"DATE\", \"ECHEANCE\"]:\n",
    "    journal[col] = pd.to_datetime(journal[col], format=\"%d/%m/%Y\")\n",
    "    \n",
    "# Create a new column \"AAAAMM\" by formatting the \"DATE\" column to \"YYYYMM\"\n",
    "journal[\"AAAAMM\"] = journal[\"DATE\"].dt.strftime(\"%Y%m\")"
   ]
  },
  {
   "cell_type": "code",
   "execution_count": 5,
   "metadata": {},
   "outputs": [],
   "source": [
    "# Create a mask to filter rows where the \"COMPTE\" column starts with \"6\"\n",
    "masque_charge = journal[\"COMPTE\"].str[0] == \"6\"\n",
    "\n",
    "# Use the mask to filter the journal dataframe and reset the index\n",
    "charges = journal.loc[masque_charge].reset_index(drop=True)\n",
    "\n",
    "# Create a new column \"CLE\" by taking the first 3 characters of the \"COMPTE\" column\n",
    "charges[\"CLE\"] = charges[\"COMPTE\"].str[:3]"
   ]
  },
  {
   "cell_type": "code",
   "execution_count": 6,
   "metadata": {},
   "outputs": [],
   "source": [
    "# Merge the 'charges' dataframe with the 'compte_charges' dataframe\n",
    "# Perform a left join on the 'CLE' column from 'charges' and 'CODE_SOUS_CATEGORIE' column from 'compte_charges'\n",
    "# Validate that each row in 'charges' matches at most one row in 'compte_charges'\n",
    "charges_plan_de_compte = charges.merge(\n",
    "    right=compte_charges,\n",
    "    how=\"left\",\n",
    "    left_on=\"CLE\",\n",
    "    right_on=\"CODE_SOUS_CATEGORIE\",\n",
    "    validate=\"m:1\",\n",
    ")"
   ]
  },
  {
   "cell_type": "code",
   "execution_count": 7,
   "metadata": {},
   "outputs": [],
   "source": [
    "# Drop the specified columns from the 'charges_plan_de_compte' dataframe\n",
    "charges_plan_de_compte = charges_plan_de_compte.drop(\n",
    "    columns=[\n",
    "        \"CLE\",                  # Drop the 'CLE' column\n",
    "        \"CODE_SOUS_CATEGORIE\",  # Drop the 'CODE_SOUS_CATEGORIE' column\n",
    "        \"AAAAMM\",               # Drop the 'AAAAMM' column\n",
    "        \"JOURNAL\",              # Drop the 'JOURNAL' column\n",
    "        \"CREDIT\",               # Drop the 'CREDIT' column\n",
    "        \"ECHEANCE\",             # Drop the 'ECHEANCE' column\n",
    "        \"PIECE\",                # Drop the 'PIECE' column\n",
    "        \"REF_PIECE\",            # Drop the 'REF_PIECE' column\n",
    "        \"COMPTE\",               # Drop the 'COMPTE' column\n",
    "    ],\n",
    "    axis=1,  # Specify that we are dropping columns (not rows)\n",
    ").filter([\"DATE\", \"LIBELLE_CATEGORIE\", \"LIBELLE_SOUS_CATEGORIE\", \"LIBELLE\", \"DEBIT\"])  # Keep only the specified columns\n",
    "\n"
   ]
  },
  {
   "cell_type": "code",
   "execution_count": 8,
   "metadata": {},
   "outputs": [],
   "source": [
    "# Save the 'charges_plan_de_compte' dataframe to a Parquet file\n",
    "# The file path is specified by 'paths.CUBE_FILE_PATH'\n",
    "# The 'index=False' parameter ensures that the index is not saved in the file\n",
    "charges_plan_de_compte.to_parquet(paths.CUBE_FILE_PATH, index=False)"
   ]
  }
 ],
 "metadata": {
  "kernelspec": {
   "display_name": ".venv",
   "language": "python",
   "name": "python3"
  },
  "language_info": {
   "codemirror_mode": {
    "name": "ipython",
    "version": 3
   },
   "file_extension": ".py",
   "mimetype": "text/x-python",
   "name": "python",
   "nbconvert_exporter": "python",
   "pygments_lexer": "ipython3",
   "version": "3.11.11"
  }
 },
 "nbformat": 4,
 "nbformat_minor": 2
}
